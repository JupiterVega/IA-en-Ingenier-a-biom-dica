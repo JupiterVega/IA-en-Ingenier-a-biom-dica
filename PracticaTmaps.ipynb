{
 "cells": [
  {
   "cell_type": "code",
   "execution_count": 86,
   "metadata": {},
   "outputs": [
    {
     "name": "stdout",
     "output_type": "stream",
     "text": [
      "256\n",
      "[-2.017495632171631, 1.7602040767669678, -1.3323537111282349, -1.1095024347305298, 1.2254549264907837]\n"
     ]
    }
   ],
   "source": [
    "from rxnfp.transformer_fingerprints import (\n",
    "    RXNBERTFingerprintGenerator, get_default_model_and_tokenizer, generate_fingerprints\n",
    ")\n",
    "\n",
    "model, tokenizer = get_default_model_and_tokenizer()\n",
    "\n",
    "rxnfp_generator = RXNBERTFingerprintGenerator(model, tokenizer)\n",
    "\n",
    "example_rxn = \"Nc1cccc2cnccc12.O=C(O)c1cc([N+](=O)[O-])c(Sc2c(Cl)cncc2Cl)s1>>O=C(Nc1cccc2cnccc12)c1cc([N+](=O)[O-])c(Sc2c(Cl)cncc2Cl)s1\"\n",
    "\n",
    "fp = rxnfp_generator.convert(example_rxn)\n",
    "print(len(fp))\n",
    "print(fp[:5])"
   ]
  },
  {
   "cell_type": "code",
   "execution_count": 87,
   "metadata": {},
   "outputs": [
    {
     "name": "stdout",
     "output_type": "stream",
     "text": [
      "The autoreload extension is already loaded. To reload it, use:\n",
      "  %reload_ext autoreload\n"
     ]
    }
   ],
   "source": [
    "%load_ext autoreload\n",
    "%autoreload 2"
   ]
  },
  {
   "cell_type": "code",
   "execution_count": 88,
   "metadata": {},
   "outputs": [],
   "source": [
    "#hide\n",
    "from rdkit.Chem import AllChem\n",
    "from rdkit.Chem import Draw\n",
    "\n",
    "# use IPythonConsole for pretty drawings\n",
    "from rdkit.Chem.Draw import IPythonConsole"
   ]
  },
  {
   "cell_type": "code",
   "execution_count": 89,
   "metadata": {},
   "outputs": [],
   "source": [
    "import collections\n",
    "import logging\n",
    "import os\n",
    "import re\n",
    "import numpy as np\n",
    "from rdkit import Chem\n",
    "\n",
    "import pkg_resources\n",
    "\n",
    "from typing import List\n",
    "\n",
    "from transformers import BertTokenizer"
   ]
  },
  {
   "cell_type": "code",
   "execution_count": 90,
   "metadata": {},
   "outputs": [],
   "source": [
    "SMI_REGEX_PATTERN =  r\"(\\%\\([0-9]{3}\\)|\\[[^\\]]+]|Br?|Cl?|N|O|S|P|F|I|b|c|n|o|s|p|\\||\\(|\\)|\\.|=|#|-|\\+|\\\\|\\/|:|~|@|\\?|>>?|\\*|\\$|\\%[0-9]{2}|[0-9])\"\n",
    "\n",
    "def get_default_tokenizer():\n",
    "    default_vocab_path = (\n",
    "        pkg_resources.resource_filename(\n",
    "                    \"rxnfp\",\n",
    "                    \"models/transformers/bert_ft_10k_25s/vocab.txt\"\n",
    "                )\n",
    "    )\n",
    "    return SmilesTokenizer(default_vocab_path, do_lower_case=False)\n",
    "\n",
    "\n",
    "class SmilesTokenizer(BertTokenizer):\n",
    "    \"\"\"\n",
    "    Constructs a SmilesBertTokenizer.\n",
    "    Adapted from https://github.com/huggingface/transformers\n",
    "    and https://github.com/rxn4chemistry/rxnfp.\n",
    "    \n",
    "    Args:\n",
    "        vocabulary_file: path to a token per line vocabulary file.\n",
    "    \"\"\"\n",
    "\n",
    "    def __init__(\n",
    "        self,\n",
    "        vocab_file: str,\n",
    "        unk_token: str = \"[UNK]\",\n",
    "        sep_token: str = \"[SEP]\",\n",
    "        pad_token: str = \"[PAD]\",\n",
    "        cls_token: str = \"[CLS]\",\n",
    "        mask_token: str = \"[MASK]\",\n",
    "        do_lower_case=False,\n",
    "        **kwargs,\n",
    "    ) -> None:\n",
    "        \"\"\"Constructs an SmilesTokenizer.\n",
    "        Args:\n",
    "            vocabulary_file: vocabulary file containing tokens.\n",
    "            unk_token: unknown token. Defaults to \"[UNK]\".\n",
    "            sep_token: separator token. Defaults to \"[SEP]\".\n",
    "            pad_token: pad token. Defaults to \"[PAD]\".\n",
    "            cls_token: cls token. Defaults to \"[CLS]\".\n",
    "            mask_token: mask token. Defaults to \"[MASK]\".\n",
    "        \"\"\"\n",
    "        super().__init__(\n",
    "            vocab_file=vocab_file,\n",
    "            unk_token=unk_token,\n",
    "            sep_token=sep_token,\n",
    "            pad_token=pad_token,\n",
    "            cls_token=cls_token,\n",
    "            mask_token=mask_token,\n",
    "            do_lower_case=do_lower_case,\n",
    "            **kwargs,\n",
    "        )\n",
    "        # define tokenization utilities\n",
    "        self.tokenizer = RegexTokenizer()\n",
    "\n",
    "    @property\n",
    "    def vocab_list(self) -> List[str]:\n",
    "        \"\"\"List vocabulary tokens.\n",
    "        Returns:\n",
    "            a list of vocabulary tokens.\n",
    "        \"\"\"\n",
    "        return list(self.vocab.keys())\n",
    "\n",
    "    def _tokenize(self, text: str) -> List[str]:\n",
    "        \"\"\"Tokenize a text representing an enzymatic reaction with AA sequence information.\n",
    "        Args:\n",
    "            text: text to tokenize.\n",
    "        Returns:\n",
    "            extracted tokens.\n",
    "        \"\"\"\n",
    "        return self.tokenizer.tokenize(text)\n",
    "\n",
    "\n",
    "class RegexTokenizer:\n",
    "    \"\"\"Run regex tokenization\"\"\"\n",
    "\n",
    "    def __init__(self, regex_pattern: str=SMI_REGEX_PATTERN) -> None:\n",
    "        \"\"\"Constructs a RegexTokenizer.\n",
    "        Args:\n",
    "            regex_pattern: regex pattern used for tokenization.\n",
    "            suffix: optional suffix for the tokens. Defaults to \"\".\n",
    "        \"\"\"\n",
    "        self.regex_pattern = regex_pattern\n",
    "        self.regex = re.compile(self.regex_pattern)\n",
    "\n",
    "    def tokenize(self, text: str) -> List[str]:\n",
    "        \"\"\"Regex tokenization.\n",
    "        Args:\n",
    "            text: text to tokenize.\n",
    "        Returns:\n",
    "            extracted tokens separated by spaces.\n",
    "        \"\"\"\n",
    "        tokens = [token for token in self.regex.findall(text)]\n",
    "        return tokens"
   ]
  },
  {
   "cell_type": "code",
   "execution_count": 91,
   "metadata": {},
   "outputs": [],
   "source": [
    "#export\n",
    "class NotCanonicalizableSmilesException(ValueError):\n",
    "    pass\n",
    "\n",
    "\n",
    "def canonicalize_smi(smi, remove_atom_mapping=False):\n",
    "    r\"\"\"\n",
    "    Canonicalize SMILES\n",
    "    \"\"\"\n",
    "    mol = Chem.MolFromSmiles(smi)\n",
    "    if not mol:\n",
    "        raise NotCanonicalizableSmilesException(\"Molecule not canonicalizable\")\n",
    "    if remove_atom_mapping:\n",
    "        for atom in mol.GetAtoms():\n",
    "            if atom.HasProp(\"molAtomMapNumber\"):\n",
    "                atom.ClearProp(\"molAtomMapNumber\")\n",
    "    return Chem.MolToSmiles(mol)\n",
    "\n",
    "\n",
    "def process_reaction(rxn):\n",
    "    \"\"\"\n",
    "    Process and canonicalize reaction SMILES \n",
    "    \"\"\"\n",
    "    reactants, reagents, products = rxn.split(\">\")\n",
    "    try:\n",
    "        precursors = [canonicalize_smi(r, True) for r in reactants.split(\".\")]\n",
    "        if len(reagents) > 0:\n",
    "            precursors += [\n",
    "                canonicalize_smi(r, True) for r in reagents.split(\".\")\n",
    "            ]\n",
    "        products = [canonicalize_smi(p, True) for p in products.split(\".\")]\n",
    "    except NotCanonicalizableSmilesException:\n",
    "        return \"\"\n",
    "\n",
    "    joined_precursors = \".\".join(sorted(precursors))\n",
    "    joined_products = \".\".join(sorted(products))\n",
    "    return f\"{joined_precursors}>>{joined_products}\""
   ]
  },
  {
   "cell_type": "code",
   "execution_count": 92,
   "metadata": {},
   "outputs": [],
   "source": [
    "atom_mapped_rxn = 'F[c:5]1[n:6][cH:7][cH:8][cH:9][c:10]1[F:11].[CH3:1][CH:2]([CH3:3])[SH:4]>CN(C)C=O.O=C([O-])[O-].[K+].[K+]>[CH3:1][CH:2]([CH3:3])[S:4][c:5]1[n:6][cH:7][cH:8][cH:9][c:10]1[F:11]'\n",
    "canonical_rxn = \"CC(C)S.CN(C)C=O.Fc1cccnc1F.O=C([O-])[O-].[K+].[K+]>>CC(C)Sc1ncccc1F\"\n",
    "tokenized_rxn = 'C C ( C ) S . C N ( C ) C = O . F c 1 c c c n c 1 F . O = C ( [O-] ) [O-] . [K+] . [K+] >> C C ( C ) S c 1 n c c c c 1 F'"
   ]
  },
  {
   "cell_type": "code",
   "execution_count": 94,
   "metadata": {},
   "outputs": [
    {
     "data": {
      "image/png": "[encoded data removed]",
      "text/plain": [
       "<rdkit.Chem.rdChemReactions.ChemicalReaction at 0x7fedcfe9cd50>"
      ]
     },
     "execution_count": 94,
     "metadata": {},
     "output_type": "execute_result"
    }
   ],
   "source": [
    "AllChem.ReactionFromSmarts(atom_mapped_rxn, useSmiles=True)\n"
   ]
  },
  {
   "cell_type": "code",
   "execution_count": 95,
   "metadata": {},
   "outputs": [],
   "source": [
    "assert canonical_rxn == process_reaction(atom_mapped_rxn)\n"
   ]
  },
  {
   "cell_type": "code",
   "execution_count": 96,
   "metadata": {},
   "outputs": [
    {
     "data": {
      "image/png": "[encoded data removed]",
      "text/plain": [
       "<rdkit.Chem.rdChemReactions.ChemicalReaction at 0x7fede73702b0>"
      ]
     },
     "execution_count": 96,
     "metadata": {},
     "output_type": "execute_result"
    }
   ],
   "source": [
    "AllChem.ReactionFromSmarts(canonical_rxn, useSmiles=True)\n"
   ]
  },
  {
   "cell_type": "code",
   "execution_count": 97,
   "metadata": {},
   "outputs": [],
   "source": [
    "tokenizer = get_default_tokenizer()\n",
    "assert isinstance(tokenizer, SmilesTokenizer)\n",
    "basic_tokenizer = RegexTokenizer()"
   ]
  },
  {
   "cell_type": "code",
   "execution_count": 98,
   "metadata": {},
   "outputs": [],
   "source": [
    "assert tokenized_rxn == ' '.join(basic_tokenizer.tokenize(canonical_rxn))\n"
   ]
  },
  {
   "cell_type": "code",
   "execution_count": 99,
   "metadata": {},
   "outputs": [],
   "source": [
    "assert len(tokenizer.vocab_list) == 591\n"
   ]
  },
  {
   "cell_type": "code",
   "execution_count": 100,
   "metadata": {},
   "outputs": [],
   "source": [
    "import numpy \n",
    "import tmap\n",
    "import faerun\n",
    "import scipy\n",
    "import rdkit\n",
    "import rdkit.Chem\n",
    "import json\n",
    "import numpy as np\n",
    "import pandas as pd\n",
    "import tmap as tm\n",
    "from tqdm import tqdm \n",
    "from faerun import Faerun\n",
    "import matplotlib.pyplot as plt\n",
    "from matplotlib.colors import ListedColormap\n",
    "\n",
    "from scipy import stats\n",
    "from rdkit import Chem\n",
    "from rdkit.Chem import AllChem, Descriptors, Descriptors3D\n",
    "from matplotlib.colors import LinearSegmentedColormap"
   ]
  },
  {
   "cell_type": "code",
   "execution_count": 101,
   "metadata": {},
   "outputs": [],
   "source": [
    "lf = tm.LSHForest(256, 128)\n",
    "mh_encoder = tm.Minhash()"
   ]
  },
  {
   "cell_type": "code",
   "execution_count": 107,
   "metadata": {},
   "outputs": [
    {
     "data": {
      "text/html": [
       "<div>\n",
       "<style scoped>\n",
       "    .dataframe tbody tr th:only-of-type {\n",
       "        vertical-align: middle;\n",
       "    }\n",
       "\n",
       "    .dataframe tbody tr th {\n",
       "        vertical-align: top;\n",
       "    }\n",
       "\n",
       "    .dataframe thead th {\n",
       "        text-align: right;\n",
       "    }\n",
       "</style>\n",
       "<table border=\"1\" class=\"dataframe\">\n",
       "  <thead>\n",
       "    <tr style=\"text-align: right;\">\n",
       "      <th></th>\n",
       "      <th>original_rxn</th>\n",
       "      <th>rxn_class</th>\n",
       "      <th>source</th>\n",
       "      <th>rxn</th>\n",
       "      <th>split</th>\n",
       "      <th>rxn_category</th>\n",
       "      <th>rxn_superclass</th>\n",
       "    </tr>\n",
       "  </thead>\n",
       "  <tbody>\n",
       "    <tr>\n",
       "      <th>0</th>\n",
       "      <td>[CH3:17][S:14](=[O:15])(=[O:16])[N:11]1[CH2:10...</td>\n",
       "      <td>6.1.5</td>\n",
       "      <td>US06887874</td>\n",
       "      <td>C1CCCCC1.CCO.CS(=O)(=O)N1CCN(Cc2ccccc2)CC1.[OH...</td>\n",
       "      <td>test</td>\n",
       "      <td>6.1</td>\n",
       "      <td>6</td>\n",
       "    </tr>\n",
       "    <tr>\n",
       "      <th>1</th>\n",
       "      <td>O.O.[Na+].[CH3:1][c:2]1[cH:7][c:6]([N+:8](=O)[...</td>\n",
       "      <td>7.1.1</td>\n",
       "      <td>US07056926</td>\n",
       "      <td>CCOC(C)=O.Cc1cc([N+](=O)[O-])ccc1NC(=O)c1ccccc...</td>\n",
       "      <td>test</td>\n",
       "      <td>7.1</td>\n",
       "      <td>7</td>\n",
       "    </tr>\n",
       "    <tr>\n",
       "      <th>2</th>\n",
       "      <td>[CH3:1][O:2][c:3]1[cH:4][cH:5][c:6](-[c:9]2[cH...</td>\n",
       "      <td>1.8.5</td>\n",
       "      <td>US08492378</td>\n",
       "      <td>COc1ccc(-c2coc3ccc(-c4nnc(S)o4)cc23)cc1.COc1cc...</td>\n",
       "      <td>test</td>\n",
       "      <td>1.8</td>\n",
       "      <td>1</td>\n",
       "    </tr>\n",
       "    <tr>\n",
       "      <th>3</th>\n",
       "      <td>Cl.[CH3:43][CH2:42][S:44](=[O:45])(=[O:46])Cl....</td>\n",
       "      <td>2.2.3</td>\n",
       "      <td>US08592454</td>\n",
       "      <td>CCS(=O)(=O)Cl.CN(C(=O)N(C)[C@@H]1CN(C(=O)C2CCN...</td>\n",
       "      <td>train</td>\n",
       "      <td>2.2</td>\n",
       "      <td>2</td>\n",
       "    </tr>\n",
       "    <tr>\n",
       "      <th>4</th>\n",
       "      <td>[CH3:25][O:24][c:21]1[cH:22][cH:23][c:17]([O:1...</td>\n",
       "      <td>1.3.7</td>\n",
       "      <td>US06716851</td>\n",
       "      <td>COc1ccc(OC)c(N)c1.Cc1cc(Cl)nc(-c2ccccn2)n1&gt;&gt;CO...</td>\n",
       "      <td>test</td>\n",
       "      <td>1.3</td>\n",
       "      <td>1</td>\n",
       "    </tr>\n",
       "  </tbody>\n",
       "</table>\n",
       "</div>"
      ],
      "text/plain": [
       "                                        original_rxn rxn_class      source  \\\n",
       "0  [CH3:17][S:14](=[O:15])(=[O:16])[N:11]1[CH2:10...     6.1.5  US06887874   \n",
       "1  O.O.[Na+].[CH3:1][c:2]1[cH:7][c:6]([N+:8](=O)[...     7.1.1  US07056926   \n",
       "2  [CH3:1][O:2][c:3]1[cH:4][cH:5][c:6](-[c:9]2[cH...     1.8.5  US08492378   \n",
       "3  Cl.[CH3:43][CH2:42][S:44](=[O:45])(=[O:46])Cl....     2.2.3  US08592454   \n",
       "4  [CH3:25][O:24][c:21]1[cH:22][cH:23][c:17]([O:1...     1.3.7  US06716851   \n",
       "\n",
       "                                                 rxn  split rxn_category  \\\n",
       "0  C1CCCCC1.CCO.CS(=O)(=O)N1CCN(Cc2ccccc2)CC1.[OH...   test          6.1   \n",
       "1  CCOC(C)=O.Cc1cc([N+](=O)[O-])ccc1NC(=O)c1ccccc...   test          7.1   \n",
       "2  COc1ccc(-c2coc3ccc(-c4nnc(S)o4)cc23)cc1.COc1cc...   test          1.8   \n",
       "3  CCS(=O)(=O)Cl.CN(C(=O)N(C)[C@@H]1CN(C(=O)C2CCN...  train          2.2   \n",
       "4  COc1ccc(OC)c(N)c1.Cc1cc(Cl)nc(-c2ccccn2)n1>>CO...   test          1.3   \n",
       "\n",
       "  rxn_superclass  \n",
       "0              6  \n",
       "1              7  \n",
       "2              1  \n",
       "3              2  \n",
       "4              1  "
      ]
     },
     "execution_count": 107,
     "metadata": {},
     "output_type": "execute_result"
    }
   ],
   "source": [
    "with open('rxnclass2name.json', 'r') as f:\n",
    "    rxnclass2name = json.load(f)\n",
    "schneider_df = pd.read_csv('/home/crakerool/rxnfp/data/schneider50k.tsv', sep='\\t', index_col=0)\n",
    "ft_10k_fps = np.load('/home/crakerool/rxnfp/data/fps_ft_10k.npz')['fps']\n",
    "schneider_df['rxn_category'] = schneider_df.rxn_class.apply(lambda x: '.'.join(x.split('.')[:2]))\n",
    "schneider_df['rxn_superclass'] = schneider_df.rxn_class.apply(lambda x: x.split('.')[0])\n",
    "schneider_df.head()\n",
    "\n"
   ]
  },
  {
   "cell_type": "code",
   "execution_count": 103,
   "metadata": {},
   "outputs": [
    {
     "name": "stderr",
     "output_type": "stream",
     "text": [
      "100%|██████████| 50000/50000 [00:06<00:00, 7526.63it/s]\n"
     ]
    }
   ],
   "source": [
    "\n",
    "mhfps = [mh_encoder.from_weight_array(fp.tolist(), method=\"I2CWS\") for fp in tqdm(ft_10k_fps)]\n"
   ]
  },
  {
   "cell_type": "code",
   "execution_count": 108,
   "metadata": {},
   "outputs": [
    {
     "name": "stderr",
     "output_type": "stream",
     "text": [
      "100%|██████████| 50000/50000 [00:20<00:00, 2444.66it/s]\n"
     ]
    }
   ],
   "source": [
    "labels = []\n",
    "# superclasses\n",
    "superclasses = []\n",
    "\n",
    "# product properties\n",
    "tpsa = []\n",
    "logp = []\n",
    "mw = []\n",
    "h_acceptors = []\n",
    "h_donors = []\n",
    "ring_count = []\n",
    "\n",
    "# metals in precursors\n",
    "has_Pd = []\n",
    "has_Li = []\n",
    "has_Mg = []\n",
    "has_Al = []\n",
    "\n",
    "for i, row in tqdm(schneider_df.iterrows(), total=len(schneider_df)):\n",
    "\n",
    "    rxn = row[\"rxn\"]\n",
    "    labels.append(\n",
    "        str(rxn)\n",
    "        + \"__\"\n",
    "        + str(rxn)\n",
    "        + f\"__{row['source']}\"\n",
    "        + f\"__{rxnclass2name[row['rxn_class']]} - {row['rxn_class']}\"\n",
    "        + f\"__{rxnclass2name[row['rxn_category']]}\"\n",
    "        + f\"__{rxnclass2name[row['rxn_superclass']]}\"\n",
    "    )\n",
    "    superclasses.append(int(row[\"rxn_superclass\"]))\n",
    "    \n",
    "    precursors, products = rxn.split('>>')\n",
    "\n",
    "    mol = Chem.MolFromSmiles(products)\n",
    "            \n",
    "    tpsa.append(Descriptors.TPSA(mol))\n",
    "    logp.append(Descriptors.MolLogP(mol))\n",
    "    mw.append(Descriptors.MolWt(mol))\n",
    "    h_acceptors.append(Descriptors.NumHAcceptors(mol))\n",
    "    h_donors.append(Descriptors.NumHDonors(mol))\n",
    "    ring_count.append(Descriptors.RingCount(mol))\n",
    "    \n",
    "    has_Pd.append('Pd' in precursors)\n",
    "    has_Li.append('Li' in precursors)\n",
    "    has_Mg.append('Mg' in precursors)\n",
    "    has_Al.append('Al' in precursors)\n",
    "tpsa_ranked = stats.rankdata(np.array(tpsa) / max(tpsa)) / len(tpsa)\n",
    "logp_ranked = stats.rankdata(np.array(logp) / max(logp)) / len(logp)\n",
    "mw_ranked = stats.rankdata(np.array(mw) / max(mw)) / len(mw)\n",
    "h_acceptors_ranked = stats.rankdata(np.array(h_acceptors) / max(h_acceptors)) / len(\n",
    "    h_acceptors\n",
    ")\n",
    "h_donors_ranked = stats.rankdata(np.array(h_donors) / max(h_donors)) / len(h_donors)\n",
    "ring_count_ranked = stats.rankdata(np.array(ring_count) / max(ring_count)) / len(\n",
    "    ring_count\n",
    ")\n",
    "labels_groups, groups = Faerun.create_categories(superclasses)\n",
    "\n",
    "labels_groups = [(label[0], f\"{label[1]} - {rxnclass2name[str(label[1])]}\") for label in labels_groups]"
   ]
  },
  {
   "cell_type": "code",
   "execution_count": 109,
   "metadata": {},
   "outputs": [],
   "source": [
    "# slow\n",
    "lf.batch_add(mhfps)\n",
    "lf.index()\n",
    "\n",
    "# Layout\n",
    "cfg = tm.LayoutConfiguration()\n",
    "cfg.k = 50\n",
    "cfg.kc = 50\n",
    "cfg.sl_scaling_min = 1.0\n",
    "cfg.sl_scaling_max = 1.0\n",
    "cfg.sl_repeats = 1\n",
    "cfg.sl_extra_scaling_steps = 2\n",
    "cfg.placer = tm.Placer.Barycenter\n",
    "cfg.merger = tm.Merger.LocalBiconnected\n",
    "cfg.merger_factor = 2.0\n",
    "cfg.merger_adjustment = 0\n",
    "cfg.fme_iterations = 1000\n",
    "cfg.sl_scaling_type = tm.ScalingType.RelativeToDesiredLength\n",
    "cfg.node_size = 1 / 37\n",
    "cfg.mmm_repeats = 1\n",
    "\n",
    "# Define colormaps\n",
    "set1 = plt.get_cmap(\"Set1\").colors\n",
    "rainbow = plt.get_cmap(\"rainbow\")\n",
    "colors = rainbow(np.linspace(0, 1, len(set(groups))))[:, :3].tolist()\n",
    "custom_cm = LinearSegmentedColormap.from_list(\"my_map\", colors, N=len(colors))\n",
    "bin_cmap = ListedColormap([set1[8], \"#5400F6\"], name=\"bin_cmap\")\n",
    "\n",
    "# Get tree coordinates\n",
    "x, y, s, t, _ = tm.layout_from_lsh_forest(lf, config=cfg)"
   ]
  },
  {
   "cell_type": "code",
   "execution_count": 110,
   "metadata": {},
   "outputs": [
    {
     "name": "stderr",
     "output_type": "stream",
     "text": [
      "/home/crakerool/miniconda3/envs/mi_entorno/lib/python3.6/site-packages/matplotlib/colors.py:263: VisibleDeprecationWarning: Creating an ndarray from ragged nested sequences (which is a list-or-tuple of lists-or-tuples-or ndarrays with different lengths or shapes) is deprecated. If you meant to do this, you must specify 'dtype=object' when creating the ndarray\n",
      "  c = np.array(c)\n"
     ]
    }
   ],
   "source": [
    "# slow\n",
    "f = Faerun(clear_color=\"#ffffff\", coords=False, view=\"front\",)\n",
    "    \n",
    "f.add_scatter(\n",
    "\"ReactionAtlas\",\n",
    "{\n",
    "    \"x\": x, \"y\": y, \n",
    "    \"c\": [\n",
    "        groups, # superclasses\n",
    "        has_Pd, \n",
    "        has_Li, \n",
    "        has_Mg, \n",
    "        has_Al,\n",
    "        tpsa_ranked,\n",
    "        logp_ranked,\n",
    "        mw_ranked,\n",
    "        h_acceptors_ranked,\n",
    "        h_donors_ranked,\n",
    "        ring_count_ranked,\n",
    "    ], \n",
    "    \"labels\": labels\n",
    "},\n",
    "shader=\"smoothCircle\",\n",
    "colormap=[\n",
    "    custom_cm, \n",
    "    bin_cmap, \n",
    "    bin_cmap, \n",
    "    bin_cmap, \n",
    "    bin_cmap, \n",
    "    \"rainbow\",\n",
    "    \"rainbow\",\n",
    "    \"rainbow\",\n",
    "    \"rainbow\",\n",
    "    \"rainbow\",\n",
    "    \"rainbow\",\n",
    "\n",
    "],\n",
    "point_scale=2.0,\n",
    "categorical=[\n",
    "    True, \n",
    "    True, \n",
    "    True, \n",
    "    True, \n",
    "    True, \n",
    "    False, \n",
    "    False, \n",
    "    False, \n",
    "    False, \n",
    "    False, \n",
    "    False, \n",
    "],\n",
    "has_legend=True,\n",
    "legend_labels=[\n",
    "    labels_groups,\n",
    "    [(0, \"No\"), (1, \"Yes\")],\n",
    "    [(0, \"No\"), (1, \"Yes\")],\n",
    "    [(0, \"No\"), (1, \"Yes\")],\n",
    "    [(0, \"No\"), (1, \"Yes\")],\n",
    "    None,\n",
    "    None,\n",
    "    None,\n",
    "    None,\n",
    "    None,\n",
    "    None,\n",
    "],\n",
    "selected_labels=[\"SMILES\", \"SMILES\", \"Patent ID\",  \"Named Reaction\", \"Category\", \"Superclass\"],\n",
    "series_title=[\n",
    "    \"Superclass\", \n",
    "    \"Pd\", \n",
    "    \"Li\", \n",
    "    \"Mg\", \n",
    "    \"Al\",\n",
    "    \"TPSA\",\n",
    "    \"logP\",\n",
    "    \"Mol Weight\",\n",
    "    \"H Acceptors\",\n",
    "    \"H Donors\",\n",
    "    \"Ring Count\",\n",
    "],\n",
    "max_legend_label=[\n",
    "    None,\n",
    "    None,\n",
    "    None,\n",
    "    None,\n",
    "    None,\n",
    "    str(round(max(tpsa))),\n",
    "    str(round(max(logp))),\n",
    "    str(round(max(mw))),\n",
    "    str(round(max(h_acceptors))),\n",
    "    str(round(max(h_donors))),\n",
    "    str(round(max(ring_count))),\n",
    "],\n",
    "min_legend_label=[\n",
    "    None,\n",
    "    None,\n",
    "    None,\n",
    "    None,\n",
    "    None,\n",
    "    str(round(min(tpsa))),\n",
    "    str(round(min(logp))),\n",
    "    str(round(min(mw))),\n",
    "    str(round(min(h_acceptors))),\n",
    "    str(round(min(h_donors))),\n",
    "    str(round(min(ring_count))),\n",
    "],\n",
    "title_index=2,\n",
    "legend_title=\"\",\n",
    ")\n",
    "\n",
    "f.add_tree(\"reactiontree\", {\"from\": s, \"to\": t}, point_helper=\"ReactionAtlas\")\n",
    "\n"
   ]
  },
  {
   "cell_type": "code",
   "execution_count": 111,
   "metadata": {},
   "outputs": [
    {
     "data": {
      "text/html": [
       "\n",
       "        <iframe\n",
       "            width=\"100%\"\n",
       "            height=\"500\"\n",
       "            src=\"./ft_10k_schneider_50k.html\"\n",
       "            frameborder=\"0\"\n",
       "            allowfullscreen\n",
       "        ></iframe>\n",
       "        "
      ],
      "text/plain": [
       "<IPython.lib.display.IFrame at 0x7fedcf73c978>"
      ]
     },
     "metadata": {},
     "output_type": "display_data"
    },
    {
     "data": {
      "text/html": [
       "<a href='./ft_10k_schneider_50k.html' target='_blank'>./ft_10k_schneider_50k.html</a><br>"
      ],
      "text/plain": [
       "/home/crakerool/ft_10k_schneider_50k.html"
      ]
     },
     "metadata": {},
     "output_type": "display_data"
    }
   ],
   "source": [
    "# hide\n",
    "# slow\n",
    "plot = f.plot(\"ft_10k_schneider_50k\", template=\"reaction_smiles\")"
   ]
  },
  {
   "cell_type": "code",
   "execution_count": null,
   "metadata": {},
   "outputs": [],
   "source": []
  }
 ],
 "metadata": {
  "kernelspec": {
   "display_name": "mi_entorno",
   "language": "python",
   "name": "python3"
  },
  "language_info": {
   "codemirror_mode": {
    "name": "ipython",
    "version": 3
   },
   "file_extension": ".py",
   "mimetype": "text/x-python",
   "name": "python",
   "nbconvert_exporter": "python",
   "pygments_lexer": "ipython3",
   "version": "3.6.13"
  }
 },
 "nbformat": 4,
 "nbformat_minor": 2
}
